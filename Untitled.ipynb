{
 "cells": [
  {
   "cell_type": "code",
   "execution_count": 1,
   "metadata": {},
   "outputs": [
    {
     "data": {
      "text/html": [
       "<div><img alt=\"Output\" src=\"data:image/png;base64,iVBORw0KGgoAAAANSUhEUgAAAQcAAAAPCAIAAABm7Z0pAAAAp3pUWHRSYXcgcHJvZmlsZSB0eXBlIGV4aWYAAHjaVU/bDQMhDPtnio6QFw6Mg66c1A06fs0dqnRWsI2VRFDm93OW14JaK1GzoQNCRI9ug6bJDWepqBg1dmR/vXLdeblXiNhoTVaoe0mXB8LTUKEZ5DDJRKdvdGTUYlITJw6AjYq3SRzUiUyOIVFNfKzBBZv57J5w3t98kZvLdYbr5s5RuXz1JNv6VvkBOGo5pyHCes8AAAAJcEhZcwAACxMAAAsTAQCanBgAAAA8dEVYdFNvZnR3YXJlAENyZWF0ZWQgd2l0aCB0aGUgV29sZnJhbSBMYW5ndWFnZSA6IHd3dy53b2xmcmFtLmNvbVyipoUAAAAhdEVYdENyZWF0aW9uIFRpbWUAMjAyMDoxMDoxOSAwMDo1NzoyNKXnLqsAAANrSURBVGiB7Vi9jqMwEB7nTrr+7hUgRZR+T/AEZqVTqlQnbQclabZLs9J220C5dFtcQ3PbgJ8gSOmjFLH7ewxfEUgMNll+kkBWfBWQ8fx55vM4iHMOAwYMEDDq2oEBA3qHoSsGDCiiRVcw30TIIZXFGWPstAhxauirgwq2e47by94tl8e1zgpCqOSLb7aJsuZyGvmN+4L5JtrDbKCEOAi1WA5QzN7RneZ6z5c90ZvG29mz8mjRFZq74vwVV5fXNK25tVZoZZn5D9sl55xz6sHioVYBMt9EFsQ8xcpt7IeQPc1dcc45j22w47Z6q5ku+4n5ph7OaRafWA23XB4j5psC1eTfjt+KnHTgP6EdiYMcP5M9zV7MNxHSFwkEliSeqc47lTNXtlxg5fo0wwhRu6y5q3RztfEUkm2O1Ygj2CJOIXAWhYkdy6UhRVT42PRM6S57ai9utjw4j20wPJqSoZHRzwFHRiqiIB3bAOl7bENhURxLOmRjSg2ifcFVpa+ndHseLRGuKFBmMnNVdO4ob0haxa/Cc3meldmTV3STPeoZAKAI85bLYwSAZ3YSRgwAWBSC91hgNn1iBFZF9sh4UZ8YFaQraWC7zaHnkRWcXn1gA32R1DCa3bboySsfcfTFVEH8+JV6GwshC+IqkwyLwsRepoKau7TT06dOnsvQQfb24xydh/rHZ9zNlMcIAPCjB2HEgLwspktpX9MpdvZ+hpO1Aeg2yfHQicIjjrUROLgqGKOUUrrbbneUUkpVG5vdD0rnZMNQGFRMXOW4SJ4vn709NHfFeWwni5crF8hlAhwBAGjuchpG/ntgz0pvR/iVU88I3s8XtTaewmb30QCNZyW5lpaz3SZ7JC912E7DGGM8nkzuMcYYS2llvqkvpqUtQRw9nL+t3ryNVeRK/OgZgZUvce1+bgTPqSDznwNjootLzprny2cvryEfSyt0Wh7yzCaPYAdkAsVes+P8hKeY21ST8VHNvt9LNIjWRGIoLt8HsX/3ilN643uFxCs5vbENuUuCPGAfnBK8P37LzcFqE7z6veLq2ROD+0TlIXSF4sJ0Pqj39YqocJnuLz599noW4FcAACCOFdgx7+r/4gEDeoUvd/+exr/+fPPo39/fL2gHIbZeM4Z0/ZJW1GCMrNfw4+ddB7bPg0+fvZ4F+B+f2MeZSRgF7gAAAABJRU5ErkJggg==\"></div>"
      ],
      "text/plain": [
       "y sin[theta] + 2 x Cos[Theta] Sin[theta]"
      ]
     },
     "execution_count": 2,
     "metadata": {
      "text/html": [],
      "text/plain": []
     },
     "output_type": "execute_result"
    }
   ],
   "source": [
    "V:= x^2*Sin[theta]*Cos[Theta] + x*y*sin[theta]\n",
    "D[V,x]"
   ]
  },
  {
   "cell_type": "code",
   "execution_count": null,
   "metadata": {},
   "outputs": [],
   "source": []
  }
 ],
 "metadata": {
  "kernelspec": {
   "display_name": "Wolfram Language 12.1",
   "language": "Wolfram Language",
   "name": "wolframlanguage12.1"
  },
  "language_info": {
   "codemirror_mode": "mathematica",
   "file_extension": ".m",
   "mimetype": "application/vnd.wolfram.m",
   "name": "Wolfram Language",
   "pygments_lexer": "mathematica",
   "version": "12.0"
  }
 },
 "nbformat": 4,
 "nbformat_minor": 4
}
